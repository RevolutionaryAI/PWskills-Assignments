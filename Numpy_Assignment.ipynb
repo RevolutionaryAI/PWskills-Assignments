{
 "cells": [
  {
   "cell_type": "code",
   "execution_count": 5,
   "id": "a7c67b71-666f-4232-a915-a2b3e6b529f3",
   "metadata": {},
   "outputs": [
    {
     "name": "stdout",
     "output_type": "stream",
     "text": [
      "list_: <class 'list'>\n",
      "array_list: <class 'numpy.ndarray'>\n"
     ]
    }
   ],
   "source": [
    "#Consider the below code to answer further questions:\n",
    "import numpy as np\n",
    "\n",
    "list_ = ['1', '2', '3', '4', '5']\n",
    "array_list = np.array(object = list_)\n",
    "print(f\"list_: {type(list_)}\")\n",
    "print(f\"array_list: {type(array_list)}\")\n",
    "#Q1. Is there any difference in the data type of variables list_ and array_list? If there is then write a code\n",
    "#o print the data types of both the variables."
   ]
  },
  {
   "cell_type": "markdown",
   "id": "39726b2b-097b-4d3e-92fe-ca0edea1c7b4",
   "metadata": {},
   "source": [
    "The data type of list_ is a Python list (list) and the data type of array_list is a NumPy array (numpy.ndarray). They are different data types.\n",
    "\n"
   ]
  },
  {
   "cell_type": "markdown",
   "id": "262df200-5f98-486f-937b-3193288751f6",
   "metadata": {},
   "source": [
    "Q2. Write a code to print the data type of each and every element of both the variables list_ and\n",
    "arra_list."
   ]
  },
  {
   "cell_type": "code",
   "execution_count": 7,
   "id": "d2e78f86-23e1-4249-af32-b9553b5aeffc",
   "metadata": {},
   "outputs": [
    {
     "name": "stdout",
     "output_type": "stream",
     "text": [
      "list_<class 'list'>\n",
      "list_<class 'list'>\n",
      "list_<class 'list'>\n",
      "list_<class 'list'>\n",
      "list_<class 'list'>\n",
      "array list:<class 'numpy.ndarray'>\n",
      "array list:<class 'numpy.ndarray'>\n",
      "array list:<class 'numpy.ndarray'>\n",
      "array list:<class 'numpy.ndarray'>\n",
      "array list:<class 'numpy.ndarray'>\n"
     ]
    }
   ],
   "source": [
    "for i in list_:\n",
    "    print(f\"list_{type(list_)}\")\n",
    "            \n",
    "for i in array_list:\n",
    "    print(f\"array list:{type(array_list)}\")"
   ]
  },
  {
   "cell_type": "code",
   "execution_count": 9,
   "id": "1dcd481d-3f7e-4cba-8135-0a3703482b96",
   "metadata": {},
   "outputs": [],
   "source": [
    "#Q3. Considering the following changes in the variable, array_list:\n",
    "array_list = np.array(object = list_, dtype = int)\n",
    "#Will there be any difference in the data type of the elements present in both the variables, list_ and\n",
    "#arra_list? If so then print the data types of each and every element present in both the variables, list_\n",
    "#and arra_list.\n",
    "#Consider the below code to answer further questions:\n",
    "import numpy as np\n",
    "num_list = [ [ 1 , 2 , 3 ] , [ 4 , 5 , 6 ] ]\n",
    "num_array = np.array(object = num_list)"
   ]
  },
  {
   "cell_type": "code",
   "execution_count": 10,
   "id": "f10e3a1e-0fa8-4bbf-8bbd-36f99ed64ed4",
   "metadata": {},
   "outputs": [
    {
     "data": {
      "text/plain": [
       "array([1, 2, 3, 4, 5])"
      ]
     },
     "execution_count": 10,
     "metadata": {},
     "output_type": "execute_result"
    }
   ],
   "source": [
    "array_list=np.array(object=list_,dtype=int)\n",
    "array_list"
   ]
  },
  {
   "cell_type": "code",
   "execution_count": 12,
   "id": "dc98635d-6caa-465d-b53c-e4f73f8e46e7",
   "metadata": {},
   "outputs": [
    {
     "name": "stdout",
     "output_type": "stream",
     "text": [
      "list_: <class 'numpy.int64'>\n",
      "list_: <class 'numpy.int64'>\n",
      "list_: <class 'numpy.int64'>\n",
      "list_: <class 'numpy.int64'>\n",
      "list_: <class 'numpy.int64'>\n",
      "array_list: <class 'numpy.int64'>\n",
      "array_list: <class 'numpy.int64'>\n",
      "array_list: <class 'numpy.int64'>\n",
      "array_list: <class 'numpy.int64'>\n",
      "array_list: <class 'numpy.int64'>\n"
     ]
    }
   ],
   "source": [
    "import numpy as np\n",
    "\n",
    "list_ = ['1', '2', '3', '4', '5']\n",
    "array_list = np.array(object=list_, dtype=int)\n",
    "\n",
    "for i in list_:\n",
    "    print(f\"list_: {type(element)}\")\n",
    "\n",
    "for i in array_list:\n",
    "    print(f\"array_list: {type(element)}\")\n"
   ]
  },
  {
   "cell_type": "code",
   "execution_count": 15,
   "id": "a023fe70-89c9-46eb-9663-bd757b5161cc",
   "metadata": {},
   "outputs": [
    {
     "name": "stdout",
     "output_type": "stream",
     "text": [
      "Shape of num_array:(2, 3)\n",
      "Size of num_array:6\n"
     ]
    }
   ],
   "source": [
    "num_list = [[1, 2, 3], [4, 5, 6]]\n",
    "num_array = np.array(num_list)\n",
    "\n",
    "print(f\"Shape of num_array:{num_array.shape}\")\n",
    "print(f\"Size of num_array:{num_array.size}\")"
   ]
  },
  {
   "cell_type": "markdown",
   "id": "d23683e2-513a-40be-a767-deed4ed49180",
   "metadata": {},
   "source": [
    "Q5. Write a code to create a NumPy array of a 3x3 matrix containing zeros only, using a NumPy array creation function."
   ]
  },
  {
   "cell_type": "code",
   "execution_count": 18,
   "id": "44195bf6-d8cd-4424-93e4-4700cd8529ca",
   "metadata": {},
   "outputs": [
    {
     "data": {
      "text/plain": [
       "array([[0., 0., 0.],\n",
       "       [0., 0., 0.],\n",
       "       [0., 0., 0.]])"
      ]
     },
     "execution_count": 18,
     "metadata": {},
     "output_type": "execute_result"
    }
   ],
   "source": [
    "zero_matrix=np.zeros((3,3))\n",
    "zero_matrix"
   ]
  },
  {
   "cell_type": "markdown",
   "id": "a7f2cdab-edc9-4857-870e-363f7b257090",
   "metadata": {},
   "source": [
    "Q6. Create an identity matrix of shape (5,5) using numpy functions?\n",
    "[Hint: An identity matrix is a matrix containing 1 diagonally and other elements will be 0.]"
   ]
  },
  {
   "cell_type": "code",
   "execution_count": 19,
   "id": "16e53a66-b6af-44ef-ad6b-54647b103ab5",
   "metadata": {},
   "outputs": [
    {
     "name": "stdout",
     "output_type": "stream",
     "text": [
      "[[1. 0. 0. 0. 0.]\n",
      " [0. 1. 0. 0. 0.]\n",
      " [0. 0. 1. 0. 0.]\n",
      " [0. 0. 0. 1. 0.]\n",
      " [0. 0. 0. 0. 1.]]\n"
     ]
    }
   ],
   "source": [
    "print(np.eye(5))"
   ]
  }
 ],
 "metadata": {
  "kernelspec": {
   "display_name": "Python 3 (ipykernel)",
   "language": "python",
   "name": "python3"
  },
  "language_info": {
   "codemirror_mode": {
    "name": "ipython",
    "version": 3
   },
   "file_extension": ".py",
   "mimetype": "text/x-python",
   "name": "python",
   "nbconvert_exporter": "python",
   "pygments_lexer": "ipython3",
   "version": "3.10.8"
  }
 },
 "nbformat": 4,
 "nbformat_minor": 5
}
