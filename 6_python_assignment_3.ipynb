{
  "nbformat": 4,
  "nbformat_minor": 0,
  "metadata": {
    "colab": {
      "provenance": [],
      "authorship_tag": "ABX9TyMlgfscWX1DT8jyzD7xmrvZ",
      "include_colab_link": true
    },
    "kernelspec": {
      "name": "python3",
      "display_name": "Python 3"
    },
    "language_info": {
      "name": "python"
    }
  },
  "cells": [
    {
      "cell_type": "markdown",
      "metadata": {
        "id": "view-in-github",
        "colab_type": "text"
      },
      "source": [
        "<a href=\"https://colab.research.google.com/github/RevolutionaryAI/PWskills-Assignments/blob/main/6_python_assignment_3.ipynb\" target=\"_parent\"><img src=\"https://colab.research.google.com/assets/colab-badge.svg\" alt=\"Open In Colab\"/></a>"
      ]
    },
    {
      "cell_type": "code",
      "execution_count": 5,
      "metadata": {
        "colab": {
          "base_uri": "https://localhost:8080/"
        },
        "id": "C5l3iwuASqOV",
        "outputId": "ed464798-1cb4-4e2a-b136-ce2e543a9418"
      },
      "outputs": [
        {
          "output_type": "execute_result",
          "data": {
            "text/plain": [
              "[('Sachin Tendulkar', 34357),\n",
              " ('Ricky Ponting', 27483),\n",
              " ('Jack Kallis', 25534),\n",
              " ('Virat Kohli', 24936)]"
            ]
          },
          "metadata": {},
          "execution_count": 5
        }
      ],
      "source": [
        "x=[('Sachin Tendulkar', 34357), ('Ricky Ponting', 27483), ('Jack Kallis', 25534), ('Virat Kohli', 24936)]\n",
        "res=sorted(x,key=lambda x:x[1],reverse=True)\n",
        "res"
      ]
    },
    {
      "cell_type": "code",
      "source": [
        "'''Q2. Write a Python Program to find the squares of all the numbers in the given list of integers using\n",
        "lambda and map functions.'''\n",
        "x=[1, 2, 3, 4, 5, 6, 7, 8, 9, 10]\n",
        "res=list(map(lambda c:c**2,x))\n",
        "res"
      ],
      "metadata": {
        "colab": {
          "base_uri": "https://localhost:8080/"
        },
        "id": "XDq-ZxHRUN3F",
        "outputId": "996765a8-2ec3-417c-bd65-862b750c60c2"
      },
      "execution_count": 12,
      "outputs": [
        {
          "output_type": "execute_result",
          "data": {
            "text/plain": [
              "[1, 4, 9, 16, 25, 36, 49, 64, 81, 100]"
            ]
          },
          "metadata": {},
          "execution_count": 12
        }
      ]
    },
    {
      "cell_type": "code",
      "source": [
        "'''Q3. Write a python program to convert the given list of integers into a tuple of strings. Use map and\n",
        "lambda functions\n",
        "Given String: [1, 2, 3, 4, 5, 6, 7, 8, 9, 10]\n",
        "Expected output: ('1', '2', '3', '4', '5', '6', '7', '8', '9', '10')'''\n",
        "l=[1, 2, 3, 4, 5, 6, 7, 8, 9, 10]\n",
        "res=tuple(map(lambda x: str(x),l))\n",
        "res"
      ],
      "metadata": {
        "colab": {
          "base_uri": "https://localhost:8080/"
        },
        "id": "QNmy2TfPUxBE",
        "outputId": "2a645cc7-7a82-4841-db93-5c521b614f6e"
      },
      "execution_count": 13,
      "outputs": [
        {
          "output_type": "execute_result",
          "data": {
            "text/plain": [
              "('1', '2', '3', '4', '5', '6', '7', '8', '9', '10')"
            ]
          },
          "metadata": {},
          "execution_count": 13
        }
      ]
    },
    {
      "cell_type": "code",
      "source": [
        "'''Q4. Write a python program using reduce function to compute the product of a list containing numbers\n",
        "from 1 to 25.'''\n",
        "from functools import reduce\n",
        "\n",
        "res = reduce(lambda x, y: x*y, [i for i in range(1,25)])\n",
        "print(res)\n"
      ],
      "metadata": {
        "colab": {
          "base_uri": "https://localhost:8080/"
        },
        "id": "A5jUKzFiVJof",
        "outputId": "8cea1825-2281-4fa9-e12a-116f7b2bcf35"
      },
      "execution_count": 17,
      "outputs": [
        {
          "output_type": "stream",
          "name": "stdout",
          "text": [
            "620448401733239439360000\n"
          ]
        }
      ]
    },
    {
      "cell_type": "code",
      "source": [
        "'''Q5. Write a python program to filter the numbers in a given list that are divisible by 2 and 3 using the\n",
        "filter function.\n",
        "[2, 3, 6, 9, 27, 60, 90, 120, 55, 46]'''\n",
        "x=[2, 3, 6, 9, 27, 60, 90, 120, 55, 46]\n",
        "print(list(filter(lambda i : i%2==0 and i%3==0,x)))\n"
      ],
      "metadata": {
        "colab": {
          "base_uri": "https://localhost:8080/"
        },
        "id": "8Rnle1QmWMSN",
        "outputId": "a54396b2-3de3-431e-9d65-4013af25809c"
      },
      "execution_count": 22,
      "outputs": [
        {
          "output_type": "stream",
          "name": "stdout",
          "text": [
            "[6, 60, 90, 120]\n"
          ]
        }
      ]
    },
    {
      "cell_type": "code",
      "source": [
        "'''Q6. Write a python program to find palindromes in the given list of strings using lambda and filter\n",
        "function.\n",
        "['python', 'php', 'aba', 'radar', 'level']'''\n",
        "x=['python', 'php', 'aba', 'radar', 'level']\n",
        "list(filter(lambda i : i if i==i[::-1] else None,x))"
      ],
      "metadata": {
        "colab": {
          "base_uri": "https://localhost:8080/"
        },
        "id": "D4RxQ3J8W5f1",
        "outputId": "29907923-39a7-4fe3-93c5-db7fc80391be"
      },
      "execution_count": 25,
      "outputs": [
        {
          "output_type": "execute_result",
          "data": {
            "text/plain": [
              "['php', 'aba', 'radar', 'level']"
            ]
          },
          "metadata": {},
          "execution_count": 25
        }
      ]
    }
  ]
}