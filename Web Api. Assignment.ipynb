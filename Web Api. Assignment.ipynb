{
 "cells": [
  {
   "cell_type": "markdown",
   "id": "5b14b88a-4b9f-47be-821d-7be4b2767acb",
   "metadata": {},
   "source": [
    "Q1. What is an API? Give an example of where an API is used in real life.\n",
    "\n",
    "   API stands for Application Programming Interface. It is a set of rules and protocols that allows different software applications to communicate with each other. In real life, an API is used when you use a weather app on your smartphone to fetch weather data from a weather service provider like OpenWeatherMap.\n",
    "\n",
    "Q2. Give advantages and disadvantages of using API.\n",
    "\n",
    "    Advantages:\n",
    "\n",
    "     - Reusability: APIs allow developers to reuse existing functionalities, saving time and effort.\n",
    "     - Interoperability: Different systems and platforms can communicate through APIs.\n",
    "     - Modularity: APIs promote software modularity by breaking complex systems into smaller, manageable components.\n",
    "   - Disadvantages:\n",
    "   \n",
    "     - Security Risks: Inadequately secured APIs can be vulnerable to attacks.\n",
    "     - Maintenance: Changes in the API can break applications that depend on it.\n",
    "     - Versioning: Maintaining backward compatibility with older API versions can be challenging.\n",
    "\n",
    "Q3. What is a Web API? Differentiate between API and Web API.\n",
    "\n",
    "   - A Web API is a type of API that operates over the internet using standard web protocols (HTTP/HTTPS). It enables interaction between different software applications via the web. The main difference is that a Web API specifically uses web technologies for communication, while an API can function through various means, not necessarily web-related.\n",
    "\n",
    "Q4. Explain REST and SOAP Architecture. Mention shortcomings of SOAP.\n",
    "\n",
    "   - REST (Representational State Transfer) is an architectural style for designing networked applications based on a set of constraints, such as statelessness and the use of standard HTTP methods. It is lightweight and well-suited for web services.\n",
    "   - SOAP (Simple Object Access Protocol) is a protocol for exchanging structured information in the implementation of web services. It relies on XML for message format and can use various protocols for transport, including HTTP, SMTP, and more.\n",
    "   - Shortcomings of SOAP:\n",
    "     - Complexity: SOAP messages can be large and complex due to their XML format.\n",
    "     - Slower: SOAP is often slower than REST due to the overhead of XML parsing and processing.\n",
    "     - Less Human-Readable: XML can be less human-readable compared to JSON, which is commonly used in RESTful APIs.\n",
    "\n",
    "Q5. Differentiate between REST and SOAP.\n",
    "\n",
    "   - REST:\n",
    "     - Based on architectural principles.\n",
    "     - Uses standard HTTP methods (GET, POST, PUT, DELETE).\n",
    "     - Typically employs lightweight data formats like JSON.\n",
    "     - Stateless, meaning each request from a client to a server must contain all the information needed to understand and process the request.\n",
    "   - SOAP:\n",
    "     - A protocol with a specific message format.\n",
    "     - Can use different protocols for transport, including HTTP, SMTP, and more.\n",
    "     - Typically uses XML for message format.\n",
    "     - Allows for complex transactions and security features.\n",
    "     - Not as lightweight as REST, which can impact performance."
   ]
  },
  {
   "cell_type": "markdown",
   "id": "c917bdb7-7e14-472f-b4bb-52f04892f325",
   "metadata": {},
   "source": []
  },
  {
   "cell_type": "code",
   "execution_count": null,
   "id": "236bd64d-f0dd-4b06-adad-d49345fb9d3f",
   "metadata": {},
   "outputs": [],
   "source": []
  }
 ],
 "metadata": {
  "kernelspec": {
   "display_name": "Python 3 (ipykernel)",
   "language": "python",
   "name": "python3"
  },
  "language_info": {
   "codemirror_mode": {
    "name": "ipython",
    "version": 3
   },
   "file_extension": ".py",
   "mimetype": "text/x-python",
   "name": "python",
   "nbconvert_exporter": "python",
   "pygments_lexer": "ipython3",
   "version": "3.10.8"
  }
 },
 "nbformat": 4,
 "nbformat_minor": 5
}
