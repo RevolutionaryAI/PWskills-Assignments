{
  "nbformat": 4,
  "nbformat_minor": 0,
  "metadata": {
    "colab": {
      "provenance": [],
      "name": "5.python_Assignment_2.ipynb"
    },
    "kernelspec": {
      "name": "python3",
      "display_name": "Python 3"
    },
    "language_info": {
      "name": "python"
    }
  },
  "cells": [
    {
      "cell_type": "markdown",
      "source": [
        "Q1. Which keyword is used to create a function? Create a function to return a list of odd numbers in the\n",
        "range of 1 to 25.\n"
      ],
      "metadata": {
        "id": "bhvCSGgkGHMr"
      }
    },
    {
      "cell_type": "code",
      "source": [
        "def odd_nums(x):\n",
        "  r=[]\n",
        "  for i in range(x):\n",
        "    if i%2==1:\n",
        "      r.append(i)\n",
        "  return r\n",
        "odd_nums(25)"
      ],
      "metadata": {
        "colab": {
          "base_uri": "https://localhost:8080/"
        },
        "id": "Hsr84I6jGLKP",
        "outputId": "f48dbf4e-fe68-45af-f452-71566d9538de"
      },
      "execution_count": null,
      "outputs": [
        {
          "output_type": "execute_result",
          "data": {
            "text/plain": [
              "[1, 3, 5, 7, 9, 11, 13, 15, 17, 19, 21, 23]"
            ]
          },
          "metadata": {},
          "execution_count": 6
        }
      ]
    },
    {
      "cell_type": "markdown",
      "source": [
        "Q2. Why *args and **kwargs is used in some functions? Create a function each for *args and **kwargs to\n",
        "demonstrate their use.\n",
        "\n",
        "*args is an argument which is passed to an function.It allows any numbers of arguments in a functions.\n",
        "\n",
        "\n"
      ],
      "metadata": {
        "id": "1Oi1GDiCGxSn"
      }
    },
    {
      "cell_type": "code",
      "source": [
        "def xx(*args):\n",
        "  for i in args:\n",
        "    print(i)\n",
        "xx(1,2,3,4)"
      ],
      "metadata": {
        "colab": {
          "base_uri": "https://localhost:8080/"
        },
        "id": "D_sV8BmnHfvA",
        "outputId": "9f28e1a9-6cae-46ba-9a37-5d2948661b6b"
      },
      "execution_count": null,
      "outputs": [
        {
          "output_type": "stream",
          "name": "stdout",
          "text": [
            "1\n",
            "2\n",
            "3\n",
            "4\n"
          ]
        }
      ]
    },
    {
      "cell_type": "markdown",
      "source": [
        "**kawargs passes key:value inside the dictionary function.It passes any arbitrary number of keyword arguments to a function as a dictionary."
      ],
      "metadata": {
        "id": "OsN968w7IUGA"
      }
    },
    {
      "cell_type": "code",
      "source": [
        "def funct(**kwargs):\n",
        "  for i,j in kwargs.items():\n",
        "    print({i:j})\n",
        "funct(name=\"John\", age=30, city=\"New York\")"
      ],
      "metadata": {
        "colab": {
          "base_uri": "https://localhost:8080/"
        },
        "id": "dz_KLxzJIx4X",
        "outputId": "a63d99db-9373-40e8-fa77-6ee73e220529"
      },
      "execution_count": null,
      "outputs": [
        {
          "output_type": "stream",
          "name": "stdout",
          "text": [
            "{'name': 'John'}\n",
            "{'age': 30}\n",
            "{'city': 'New York'}\n"
          ]
        }
      ]
    },
    {
      "cell_type": "markdown",
      "source": [
        "Q3.What is an iterator in python? Name the method used to initialise the iterator object and the method\n",
        "used for iteration. Use these methods to print the first five elements of the given list [2, 4, 6, 8, 10, 12, 14, 16,\n",
        "18, 20]."
      ],
      "metadata": {
        "id": "pIdes0qRKwWs"
      }
    },
    {
      "cell_type": "code",
      "source": [
        "##It means it is the iterator protocol manually or using builtin function iter()\n",
        "l= [2, 4, 6, 8, 10, 12, 14, 16, 18, 20]\n",
        "for i in iter(l):\n",
        "  print(i)"
      ],
      "metadata": {
        "colab": {
          "base_uri": "https://localhost:8080/"
        },
        "id": "idNTLRH0Kz0U",
        "outputId": "28df4b56-a907-42cd-dd20-5cc9fbd80e65"
      },
      "execution_count": null,
      "outputs": [
        {
          "output_type": "stream",
          "name": "stdout",
          "text": [
            "2\n",
            "4\n",
            "6\n",
            "8\n",
            "10\n",
            "12\n",
            "14\n",
            "16\n",
            "18\n",
            "20\n"
          ]
        }
      ]
    },
    {
      "cell_type": "markdown",
      "source": [
        "What is a generator function in python? Why yield keyword is used? Give an example of a generator\n",
        "function.\n",
        "\n",
        "-->A generator is a special type of iterator that is created using a function that uses the yield keyword to return values. "
      ],
      "metadata": {
        "id": "0gbCyqaiMfax"
      }
    },
    {
      "cell_type": "code",
      "source": [
        "def fibo(x):\n",
        "  a,b=0,1\n",
        "  for i in range(x):\n",
        "    a,b=b,a+b\n",
        "    yield b\n",
        "for j in fibo(10):\n",
        "  print(j,end=' ')"
      ],
      "metadata": {
        "colab": {
          "base_uri": "https://localhost:8080/"
        },
        "id": "rfqYnApwMyQK",
        "outputId": "6fd52a7c-0ea9-4dfb-dd33-22a226026c86"
      },
      "execution_count": null,
      "outputs": [
        {
          "output_type": "stream",
          "name": "stdout",
          "text": [
            "1 2 3 5 8 13 21 34 55 89 "
          ]
        }
      ]
    },
    {
      "cell_type": "markdown",
      "source": [
        "Q5)Create a generator function for prime numbers less than 1000. Use the next() method to print the\n",
        "first 20 prime numbers."
      ],
      "metadata": {
        "id": "PoAk5oiHNfxS"
      }
    },
    {
      "cell_type": "code",
      "source": [
        "def prime_numbers():\n",
        "    num = 2\n",
        "    while num < 1000:\n",
        "        is_prime = True\n",
        "        for i in range(2, int(num**0.5) + 1):\n",
        "            if num % i == 0:\n",
        "                is_prime = False\n",
        "                break\n",
        "        if is_prime:\n",
        "            yield num\n",
        "        num += 1\n",
        "prime_generator = prime_numbers()\n",
        "for i in range(20):\n",
        "    print(next(prime_generator))\n"
      ],
      "metadata": {
        "colab": {
          "base_uri": "https://localhost:8080/"
        },
        "id": "AqePZ6L5NgW4",
        "outputId": "df938aca-7bd4-455d-ece7-e2a810c66d1b"
      },
      "execution_count": null,
      "outputs": [
        {
          "output_type": "stream",
          "name": "stdout",
          "text": [
            "2\n",
            "3\n",
            "5\n",
            "7\n",
            "11\n",
            "13\n",
            "17\n",
            "19\n",
            "23\n",
            "29\n",
            "31\n",
            "37\n",
            "41\n",
            "43\n",
            "47\n",
            "53\n",
            "59\n",
            "61\n",
            "67\n",
            "71\n"
          ]
        }
      ]
    },
    {
      "cell_type": "code",
      "source": [],
      "metadata": {
        "id": "yZNnfWeiPHXi"
      },
      "execution_count": null,
      "outputs": []
    }
  ]
}