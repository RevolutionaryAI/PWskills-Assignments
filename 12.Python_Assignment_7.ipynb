{
 "cells": [
  {
   "cell_type": "markdown",
   "id": "a5b997f9",
   "metadata": {},
   "source": [
    "Q1. Create a function which will take a list as an argument and return the product of all the numbers\n",
    "after creating a flat list.\n",
    "Use the below-given list as an argument for your function.\n",
    "list1 = [1,2,3,4, [44,55,66, True], False, (34,56,78,89,34), {1,2,3,3,2,1}, {1:34, \"key2\": [55, 67, 78, 89], 4: (45,\n",
    "22, 61, 34)}, [56, 'data science'], 'Machine Learning']\n",
    "Note: you must extract numeric keys and values of the dictionary also.\n",
    "\n",
    "Q2. Write a python program for encrypting a message sent to you by your friend. The logic of encryption\n",
    "should be such that, for a the output should be z. For b, the output should be y. For c, the output should\n",
    "be x respectively. Also, the whitespace should be replaced with a dollar sign. Keep the punctuation\n",
    "marks unchanged.\n",
    "Input Sentence: I want to become a Data Scientist.\n",
    "Encrypt the above input sentence using the program you just created.\n",
    "Note: Convert the given input sentence into lowercase before encrypting. The final output should be\n",
    "lowercase."
   ]
  },
  {
   "cell_type": "code",
   "execution_count": 7,
   "id": "9ffefe27",
   "metadata": {
    "scrolled": true
   },
   "outputs": [
    {
     "ename": "MemoryError",
     "evalue": "",
     "output_type": "error",
     "traceback": [
      "\u001b[1;31m---------------------------------------------------------------------------\u001b[0m",
      "\u001b[1;31mMemoryError\u001b[0m                               Traceback (most recent call last)",
      "Input \u001b[1;32mIn [7]\u001b[0m, in \u001b[0;36m<cell line: 18>\u001b[1;34m()\u001b[0m\n\u001b[0;32m     16\u001b[0m     \u001b[38;5;28;01mreturn\u001b[39;00m product\n\u001b[0;32m     17\u001b[0m list1 \u001b[38;5;241m=\u001b[39m [\u001b[38;5;241m1\u001b[39m,\u001b[38;5;241m2\u001b[39m,\u001b[38;5;241m3\u001b[39m,\u001b[38;5;241m4\u001b[39m, [\u001b[38;5;241m44\u001b[39m,\u001b[38;5;241m55\u001b[39m,\u001b[38;5;241m66\u001b[39m, \u001b[38;5;28;01mTrue\u001b[39;00m], \u001b[38;5;28;01mFalse\u001b[39;00m, (\u001b[38;5;241m34\u001b[39m,\u001b[38;5;241m56\u001b[39m,\u001b[38;5;241m78\u001b[39m,\u001b[38;5;241m89\u001b[39m,\u001b[38;5;241m34\u001b[39m), {\u001b[38;5;241m1\u001b[39m,\u001b[38;5;241m2\u001b[39m,\u001b[38;5;241m3\u001b[39m,\u001b[38;5;241m3\u001b[39m,\u001b[38;5;241m2\u001b[39m,\u001b[38;5;241m1\u001b[39m}, {\u001b[38;5;241m1\u001b[39m:\u001b[38;5;241m34\u001b[39m, \u001b[38;5;124m\"\u001b[39m\u001b[38;5;124mkey2\u001b[39m\u001b[38;5;124m\"\u001b[39m: [\u001b[38;5;241m55\u001b[39m, \u001b[38;5;241m67\u001b[39m, \u001b[38;5;241m78\u001b[39m, \u001b[38;5;241m89\u001b[39m], \u001b[38;5;241m4\u001b[39m: (\u001b[38;5;241m45\u001b[39m, \u001b[38;5;241m22\u001b[39m, \u001b[38;5;241m61\u001b[39m, \u001b[38;5;241m34\u001b[39m)}, [\u001b[38;5;241m56\u001b[39m, \u001b[38;5;124m'\u001b[39m\u001b[38;5;124mdata science\u001b[39m\u001b[38;5;124m'\u001b[39m], \u001b[38;5;124m'\u001b[39m\u001b[38;5;124mMachine Learning\u001b[39m\u001b[38;5;124m'\u001b[39m]\n\u001b[1;32m---> 18\u001b[0m product \u001b[38;5;241m=\u001b[39m \u001b[43mcalculate_product\u001b[49m\u001b[43m(\u001b[49m\u001b[43mlist1\u001b[49m\u001b[43m)\u001b[49m\n\u001b[0;32m     19\u001b[0m \u001b[38;5;28mprint\u001b[39m(\u001b[38;5;124m\"\u001b[39m\u001b[38;5;124mProduct of all the numbers in the list:\u001b[39m\u001b[38;5;124m\"\u001b[39m, product)\n",
      "Input \u001b[1;32mIn [7]\u001b[0m, in \u001b[0;36mcalculate_product\u001b[1;34m(lst)\u001b[0m\n\u001b[0;32m     12\u001b[0m product \u001b[38;5;241m=\u001b[39m \u001b[38;5;241m1\u001b[39m\n\u001b[0;32m     13\u001b[0m \u001b[38;5;28;01mfor\u001b[39;00m num \u001b[38;5;129;01min\u001b[39;00m flat_lst:\n\u001b[1;32m---> 14\u001b[0m     product \u001b[38;5;241m*\u001b[39m\u001b[38;5;241m=\u001b[39m num\n\u001b[0;32m     16\u001b[0m \u001b[38;5;28;01mreturn\u001b[39;00m product\n",
      "\u001b[1;31mMemoryError\u001b[0m: "
     ]
    }
   ],
   "source": [
    "#sol-1\n",
    "def calculate_product(lst):\n",
    "    flat_lst = []\n",
    "    for item in lst:\n",
    "        if type(item) == list or type(item) == tuple or type(item) == set:\n",
    "            flat_lst.extend(item)\n",
    "        elif type(item) == dict:\n",
    "            flat_lst.extend(item.values())\n",
    "        elif type(item) == int or type(item) == float:\n",
    "            flat_lst.append(item)\n",
    "\n",
    "    product = 1\n",
    "    for num in flat_lst:\n",
    "        product *= num\n",
    "\n",
    "    return product\n",
    "list1 = [1,2,3,4, [44,55,66, True], False, (34,56,78,89,34), {1,2,3,3,2,1}, {1:34, \"key2\": [55, 67, 78, 89], 4: (45, 22, 61, 34)}, [56, 'data science'], 'Machine Learning']\n",
    "product = calculate_product(list1)\n",
    "print(\"Product of all the numbers in the list:\", product)\n"
   ]
  },
  {
   "cell_type": "code",
   "execution_count": 8,
   "id": "f0b1d7fe",
   "metadata": {},
   "outputs": [
    {
     "name": "stdout",
     "output_type": "stream",
     "text": [
      "r$dzmg$gl$yvxlnv$z$wzgz$hxrvmgrhg.\n"
     ]
    }
   ],
   "source": [
    "#Sol-2\n",
    "\n",
    "def encrypt(message):\n",
    "    # convert message to lowercase\n",
    "    message = message.lower()\n",
    "    # create a translation table\n",
    "    table = str.maketrans('abcdefghijklmnopqrstuvwxyz ', 'zyxwvutsrqponmlkjihgfedcba$')\n",
    "    # apply the translation table to the message\n",
    "    encrypted = message.translate(table)\n",
    "    # return the encrypted message\n",
    "    return encrypted\n",
    "input_sentence = \"I want to become a Data Scientist.\"\n",
    "encrypted_sentence = encrypt(input_sentence)\n",
    "print(encrypted_sentence)\n"
   ]
  }
 ],
 "metadata": {
  "kernelspec": {
   "display_name": "Python 3 (ipykernel)",
   "language": "python",
   "name": "python3"
  },
  "language_info": {
   "codemirror_mode": {
    "name": "ipython",
    "version": 3
   },
   "file_extension": ".py",
   "mimetype": "text/x-python",
   "name": "python",
   "nbconvert_exporter": "python",
   "pygments_lexer": "ipython3",
   "version": "3.10.1"
  }
 },
 "nbformat": 4,
 "nbformat_minor": 5
}
