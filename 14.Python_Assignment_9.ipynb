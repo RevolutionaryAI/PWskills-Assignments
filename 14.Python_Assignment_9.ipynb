{
 "cells": [
  {
   "cell_type": "markdown",
   "id": "3dda00a5-0cee-4c0c-943d-1e94d333ddaa",
   "metadata": {},
   "source": [
    "Q1. Which function is used to open a file? What are the different modes of opening a file? Explain each mode\n",
    "of file opening.\n",
    "\n",
    "The open() function is used to open a file. It takes two arguments: the filename and the mode. The mode is a string that specifies how the file should be opened. The following are the different file opening modes:\n",
    "\n",
    "r - Read mode. This is the default mode. The file is opened for reading only.\n",
    "\n",
    "w - Write mode. The file is opened for writing only. If the file does not exist, it will be created. If the file already exists, it will be overwritten.\n",
    "\n",
    "a - Append mode. The file is opened for appending. If the file does not exist, it will be created. If the file already exists, new data will be appended to the end of the file.\n",
    "\n",
    "r+ - Read and write mode. The file is opened for both reading and writing.\n",
    "\n",
    "w+ - Write and read mode. The file is opened for both writing and reading. If the file does not exist, it will be created. If the file already exists, it will be overwritten.\n",
    "\n",
    "a+ - Append and read mode. The file is opened for appending and reading. If the file does not exist, it will be created. If the file already exists, new data will be appended to the end of the file."
   ]
  },
  {
   "cell_type": "markdown",
   "id": "6f11c0fa-c55b-479a-b31e-73bd0b117f3c",
   "metadata": {},
   "source": [
    "Q2. Why close() function is used? Why is it important to close a file?\n",
    "\n",
    "The close() function is used to close a file. It is important to close a file because it releases the resources that are being used by the file. If you do not close a file, it may continue to use resources even after you have finished using it. This can lead to memory leaks and other problems."
   ]
  },
  {
   "cell_type": "markdown",
   "id": "570b4c7b-cb2c-4030-8783-5bcbeda8d043",
   "metadata": {},
   "source": [
    "Q3. Write a python program to create a text file. Write ‘I want to become a Data Scientist’ in that file. Then\n",
    "close the file. Open this file and read the content of the file."
   ]
  },
  {
   "cell_type": "code",
   "execution_count": 1,
   "id": "f5b4fd33-77b5-48b0-bc31-d349103057b5",
   "metadata": {},
   "outputs": [
    {
     "name": "stdout",
     "output_type": "stream",
     "text": [
      "I want to become a Data Scientist\n"
     ]
    }
   ],
   "source": [
    "def create_and_write_file():\n",
    "    # Create a text file\n",
    "    with open(\"my_file.txt\", \"w\") as f:\n",
    "        # Write the contents of the file\n",
    "        f.write(\"I want to become a Data Scientist\")\n",
    "\n",
    "    # Close the file\n",
    "    f.close()\n",
    "\n",
    "def read_file():\n",
    "    # Open the file for reading\n",
    "    with open(\"my_file.txt\", \"r\") as f:\n",
    "        # Read the contents of the file\n",
    "        contents = f.read()\n",
    "\n",
    "    # Print the contents of the file\n",
    "    print(contents)\n",
    "\n",
    "if __name__ == \"__main__\":\n",
    "    create_and_write_file()\n",
    "    read_file()\n"
   ]
  },
  {
   "cell_type": "markdown",
   "id": "7a65ee83-4062-46e7-88a3-04ee8f9a523d",
   "metadata": {},
   "source": [
    "Q4. Explain the following with python code: read(), readline() and readlines().\n",
    "\n",
    "The read() function reads the entire contents of a file and returns it as a string. The readline() function reads a single line from a file and returns it as a string. The readlines() function reads all of the lines from a file and returns them as a list of strings."
   ]
  },
  {
   "cell_type": "code",
   "execution_count": 2,
   "id": "e767ec9c-2e3c-4fad-ba52-d202e67d826c",
   "metadata": {},
   "outputs": [
    {
     "name": "stdout",
     "output_type": "stream",
     "text": [
      "I want to become a Data Scientist\n",
      "\n"
     ]
    }
   ],
   "source": [
    "# Open the file for reading\n",
    "with open(\"my_file.txt\", \"r\") as f:\n",
    "    # Read the entire contents of the file\n",
    "    contents = f.read()\n",
    "\n",
    "    # Read a single line from the file\n",
    "    line = f.readline()\n",
    "\n",
    "    # Read all of the lines from the file\n",
    "    lines = f.readlines()\n",
    "\n",
    "# Print the contents of the file\n",
    "print(contents)\n",
    "\n",
    "# Print the single line from the file\n",
    "print(line)\n",
    "\n",
    "# Print all of the lines from the file\n",
    "for line in lines:\n",
    "    print(line)\n"
   ]
  },
  {
   "cell_type": "code",
   "execution_count": null,
   "id": "d6bc2454-aca9-465b-8ec6-febd2e28e76a",
   "metadata": {},
   "outputs": [],
   "source": []
  }
 ],
 "metadata": {
  "kernelspec": {
   "display_name": "Python 3 (ipykernel)",
   "language": "python",
   "name": "python3"
  },
  "language_info": {
   "codemirror_mode": {
    "name": "ipython",
    "version": 3
   },
   "file_extension": ".py",
   "mimetype": "text/x-python",
   "name": "python",
   "nbconvert_exporter": "python",
   "pygments_lexer": "ipython3",
   "version": "3.10.6"
  }
 },
 "nbformat": 4,
 "nbformat_minor": 5
}
