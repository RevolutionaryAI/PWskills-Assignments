{
 "cells": [
  {
   "cell_type": "markdown",
   "id": "cc692717",
   "metadata": {},
   "source": [
    "\n",
    "Q1. What is Statistics? Ans-It is a science of collecting,analyzing and organizing the data.Data mean facts or piceces of information where it can collected,recorded or measured.\n",
    "\n",
    "Q2. Define the different types of statistics and give an example of when each type might be used.\n",
    "\n",
    "Descriptive Statisctics- It is a technique of organinzing,summarizing and presenting a data in a simple way.It helps to identify patterns,trends and features of data.Measures of central tendency and dispersion are used in this type of statistics. Eg-A restaurant owner analyzes the average number of customers per day over a month to determine the best times to schedule staff.\n",
    "\n",
    "Inferential Statistics:- It makes a conclusion and predictions about a population based on a sample data.It uses the proability theory and hypothesis testing and techniques if a sample is representative of population. Eg-A pharmaceutical company tests a new drug on a sample of patients to determine if it is effective in treating a disease.\n",
    "\n",
    "Q3. What are the different types of data and how do they differ from each other? Provide an example of each type of data. Quantitative-It is expressed usually in terms of numbers and it can be further classified into interval and ratio data. Eg-height,weight,income etc.\n",
    "\n",
    "Qualitative-It is usually expresssed in categorical and cannoted be counted. Eg-material status,gender.\n",
    "\n",
    "Q4. Categorise the following datasets with respect to quantitative and qualitative data types:\n",
    "\n",
    "(i) Grading in exam: A+, A, B+, B, C+, C, D, E-Ordinal\n",
    "\n",
    "(ii) Colour of mangoes: yellow, green, orange, red-Nominal\n",
    "\n",
    "(iii) Height data of a class: [178.9, 179, 179.5, 176, 177.2, 178.3, 175.8,...] -Continuous\n",
    "\n",
    "(iv) Number of mangoes exported by a farm: [500, 600, 478, 672, ...]-Discrete\n",
    "\n",
    "Q5. Explain the concept of levels of measurement and give an example of a variable for each level.\n",
    "\n",
    "Nominal data-It is expressed in categorical data.Eg-Gender,colors and male.Here,orders does not matter.\n",
    "\n",
    "Ordinal Scale data=It is expressed in ranking and order matter.Here difference cannot be mesaured. Eg-Qualification\n",
    "\n",
    "Interval Scale data-It is expressed in ranks and order matters.Here,difference can be measured while excluding ratio.It does not have \"0\" starting value. Eg-Temperature\n",
    "\n",
    "Ratio Scale Data-It is expressed in order and rank matter.Here,difference and ratio are measurable.It does not have a \"0\" starting.Eg-Grades\n",
    "\n",
    "Q6. Why is it important to understand the level of measurement when analyzing data? Provide an example to illustrate your answer.\n",
    "\n",
    "Ans=It is important to understand the level of measurement when analyzing data because different types of variables require different types of analysis and statistical techniques. The level of measurement of a variable determines the types of analyses that can be conducted on it, as well as the appropriate measures of central tendency and dispersion.\n",
    "\n",
    "For example, if a variable is measured on a nominal scale then the appropriate measures of central tendency would be frequency or mode, and the appropriate statistical tests would be chi-square or Fisher’s exact test. On the other hand, if a variable is measured on an interval or ratio scale , then the appropriate measures of central tendency would be mean or median, and the appropriate statistical tests would be t-tests or ANOVA."
   ]
  },
  {
   "cell_type": "markdown",
   "id": "c367d468",
   "metadata": {},
   "source": [
    "Q7. How nominal data type is different from ordinal data type Make a simple sentence\n",
    "\n",
    "Ans-Nominal data consists of categories without any inherent order, whereas ordinal data consists of categories that have a specific order or ranking.\n",
    "\n",
    "Q8)Which type of plot can be used to display data in terms of range?\n",
    "\n",
    "A box plot can be used to display data in terms of range. The box plot displays the five-number summary of a dataset: the minimum and maximum values, the first quartile (Q1), the median, and the third quartile (Q3). The box itself represents the interquartile range (IQR), which is the distance between Q1 and Q3, and the whiskers represent the range of the data, excluding outliers. Box plots are useful for displaying the spread of the data and identifying any outliers, as well as comparing distributions between different groups or datasets.\n",
    "\n",
    "Q9. Describe the difference between descriptive and inferential statistics. Give an example of each type of statistics and explain how they are used. Answer-Descriptive statistics describe and summarize data, while inferential statistics make inferences and predictions about a population based on sample data. An example of descriptive statistics is calculating the mean, median, and standard deviation of a dataset, which provides a summary of the central tendency and variability of the data. An example of inferential statistics is conducting a hypothesis test to determine if there is a significant difference between two groups, based on a sample of data from each group.\n",
    "\n",
    "Q10. What are some common measures of central tendency and variability used in statistics? Explain how each measure can be used to describe a dataset.\n",
    "\n",
    "Answer- Measures of central tendency describe the center of a dataset, while measures of variability describe the spread of the data. Common measures of central tendency include the mean, median, and mode. The mean is the arithmetic average of the data, the median is the middle value when the data is sorted, and the mode is the most frequently occurring value. Common measures of variability include the range, variance, and standard deviation. The range is the difference between the minimum and maximum values, the variance measures the average distance of each data point from the mean, and the standard deviation measures the average distance of each data point from the mean, in the same units as the data. These measures can be used to describe the typical value and spread of the data, and to compare different datasets."
   ]
  },
  {
   "cell_type": "code",
   "execution_count": null,
   "id": "f6726dce",
   "metadata": {},
   "outputs": [],
   "source": []
  }
 ],
 "metadata": {
  "kernelspec": {
   "display_name": "Python 3 (ipykernel)",
   "language": "python",
   "name": "python3"
  },
  "language_info": {
   "codemirror_mode": {
    "name": "ipython",
    "version": 3
   },
   "file_extension": ".py",
   "mimetype": "text/x-python",
   "name": "python",
   "nbconvert_exporter": "python",
   "pygments_lexer": "ipython3",
   "version": "3.10.1"
  }
 },
 "nbformat": 4,
 "nbformat_minor": 5
}
