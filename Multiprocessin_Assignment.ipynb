{
 "cells": [
  {
   "cell_type": "markdown",
   "id": "1851190f-94cb-44f2-a1c8-48ab976b454c",
   "metadata": {},
   "source": [
    "Q1. What is multiprocessing in python? Why is it useful?\n",
    "\n",
    "Multiprocessing in Python is a module that allows you to create and manage multiple processes to run concurrently. It is useful for achieving parallelism and making efficient use of multi-core processors. Multiprocessing can be used to perform tasks concurrently, improving the performance of CPU-bound operations by leveraging multiple processor cores.\n",
    "\n",
    "Q2. What are the differences between multiprocessing and multithreading?\n",
    "\n",
    "Multiprocessing involves running multiple processes in parallel, each with its own memory space and Python interpreter. It is ideal for CPU-bound tasks.\n",
    "Multithreading, on the other hand, involves running multiple threads within a single process, sharing the same memory space and Python interpreter. It is suitable for I/O-bound tasks but may not fully utilize multiple CPU cores due to Python's Global Interpreter Lock (GIL)."
   ]
  },
  {
   "cell_type": "markdown",
   "id": "62a838fc-9521-4b64-b8b3-b5822d0530ed",
   "metadata": {},
   "source": [
    "Q3. Write a python code to create a process using the multiprocessing module."
   ]
  },
  {
   "cell_type": "code",
   "execution_count": 1,
   "id": "156ec64d-2981-4ebf-b7ee-ba3d1b98477e",
   "metadata": {},
   "outputs": [
    {
     "name": "stdout",
     "output_type": "stream",
     "text": [
      "This is a worker process.\n",
      "Main process finished.\n"
     ]
    }
   ],
   "source": [
    "import multiprocessing\n",
    "\n",
    "def worker_function():\n",
    "    print(\"This is a worker process.\")\n",
    "\n",
    "if __name__ == \"__main__\":\n",
    "    process = multiprocessing.Process(target=worker_function)\n",
    "    process.start()\n",
    "    process.join()\n",
    "    print(\"Main process finished.\")"
   ]
  },
  {
   "cell_type": "markdown",
   "id": "515bb2c4-4ed0-417b-8084-27c8a3fdc9b1",
   "metadata": {},
   "source": [
    "Q4. What is a multiprocessing pool in python? Why is it used?\n",
    "\n",
    "A multiprocessing pool in Python is a high-level abstraction provided by the multiprocessing module that allows you to manage a pool of worker processes. It simplifies the process of parallelizing tasks by distributing them among multiple worker processes and collecting results. It is used to perform parallel processing of a function across multiple inputs efficiently."
   ]
  },
  {
   "cell_type": "code",
   "execution_count": 3,
   "id": "c049d412-c055-46d9-a2af-f01f20d4c558",
   "metadata": {},
   "outputs": [
    {
     "name": "stdout",
     "output_type": "stream",
     "text": [
      "Results: [1, 4, 9, 16, 25]\n"
     ]
    }
   ],
   "source": [
    "import multiprocessing\n",
    "\n",
    "def worker_function(x):\n",
    "    return x * x\n",
    "\n",
    "if __name__ == \"__main__\":\n",
    "    pool = multiprocessing.Pool(processes=4)\n",
    "    inputs = [1, 2, 3, 4, 5]\n",
    "    results = pool.map(worker_function, inputs)\n",
    "    pool.close()\n",
    "    pool.join()\n",
    "\n",
    "    print(\"Results:\", results)\n"
   ]
  },
  {
   "cell_type": "markdown",
   "id": "68381147-321e-4731-b384-afd381a3ad8f",
   "metadata": {},
   "source": [
    "Q6. Write a python program to create 4 processes, each process should print a different number using the multiprocessing module in python."
   ]
  },
  {
   "cell_type": "code",
   "execution_count": 4,
   "id": "e0d6390e-749f-4e57-bd46-c37dfcd02997",
   "metadata": {},
   "outputs": [
    {
     "name": "stdout",
     "output_type": "stream",
     "text": [
      "Process 1Process  prints2 Process 1prints \n",
      " 32 \n",
      "printsProcess 3 \n",
      "4 prints 4\n",
      "All processes have finished.\n"
     ]
    }
   ],
   "source": [
    "import multiprocessing\n",
    "\n",
    "def print_number(num):\n",
    "    print(\"Process\", num, \"prints\", num)\n",
    "\n",
    "if __name__ == \"__main__\":\n",
    "    numbers = [1, 2, 3, 4]\n",
    "    processes = []\n",
    "    for num in numbers:\n",
    "        process = multiprocessing.Process(target=print_number, args=(num,))\n",
    "        processes.append(process)\n",
    "        process.start()\n",
    "    for process in processes:\n",
    "        process.join()\n",
    "\n",
    "    print(\"All processes have finished.\")\n"
   ]
  }
 ],
 "metadata": {
  "kernelspec": {
   "display_name": "Python 3 (ipykernel)",
   "language": "python",
   "name": "python3"
  },
  "language_info": {
   "codemirror_mode": {
    "name": "ipython",
    "version": 3
   },
   "file_extension": ".py",
   "mimetype": "text/x-python",
   "name": "python",
   "nbconvert_exporter": "python",
   "pygments_lexer": "ipython3",
   "version": "3.10.8"
  }
 },
 "nbformat": 4,
 "nbformat_minor": 5
}
