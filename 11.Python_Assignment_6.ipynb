{
 "cells": [
  {
   "cell_type": "markdown",
   "id": "29e99624",
   "metadata": {},
   "source": [
    "1. Write a program to accept percentage from the user and display the grade according to the following \n",
    "criteria: \n",
    "Marks \n",
    "Grade \n",
    ">90 \n",
    "A \n",
    ">80 and <=90 \n",
    "B \n",
    ">=60 and <=80 \n",
    "C \n",
    "below 60 \n",
    "D\n",
    "\n",
    "2. Write a program to accept the cost price of a bike and display the road tax to be paid according to the \n",
    "following criteria: \n",
    "\n",
    "Tax \n",
    "15% \n",
    "10% \n",
    "5% \n",
    "Cost Price(in Rs) \n",
    ">100000 \n"
   ]
  },
  {
   "cell_type": "code",
   "execution_count": 1,
   "id": "aaecdbe7",
   "metadata": {},
   "outputs": [
    {
     "name": "stdout",
     "output_type": "stream",
     "text": [
      "B\n"
     ]
    }
   ],
   "source": [
    "#Solution-1\n",
    "\n",
    "def per(x):\n",
    "    if x>90:\n",
    "        print('A')\n",
    "    elif x>80 and x<=90:\n",
    "        print('B')\n",
    "    elif x>=60 and x<=80:\n",
    "        print('C')\n",
    "    else:\n",
    "        print('D')\n",
    "per(82)\n"
   ]
  },
  {
   "cell_type": "code",
   "execution_count": 2,
   "id": "ee43ac7e",
   "metadata": {},
   "outputs": [
    {
     "name": "stdout",
     "output_type": "stream",
     "text": [
      "855\n",
      "42.75\n"
     ]
    }
   ],
   "source": [
    "#Solution-2\n",
    "\n",
    "amt=int(input())\n",
    "if amt>100000:\n",
    "    print(amt*0.15)\n",
    "elif amt>50000 and amt<=100000:\n",
    "    print(amt*0.1)\n",
    "else:\n",
    "    print(amt*0.05)\n",
    "    \n"
   ]
  },
  {
   "cell_type": "markdown",
   "id": "b071db79",
   "metadata": {},
   "source": [
    "3. Accept any city from the user and display monuments of that city. \n",
    "City \n",
    "Delhi \n",
    "Monument \n",
    "Red Fort \n",
    "Taj Mahal \n",
    "Agra \n",
    "Jaipur \n",
    "Jal Mahal \n"
   ]
  },
  {
   "cell_type": "code",
   "execution_count": 5,
   "id": "a4c4b118",
   "metadata": {},
   "outputs": [
    {
     "name": "stdout",
     "output_type": "stream",
     "text": [
      "Enter a  cityDelhi\n",
      "Enter a monumentRed Fort\n"
     ]
    }
   ],
   "source": [
    "city=input('Enter a  city')\n",
    "monument=input('Enter a monument')\n"
   ]
  },
  {
   "cell_type": "code",
   "execution_count": 7,
   "id": "1f52ae78",
   "metadata": {},
   "outputs": [
    {
     "name": "stdout",
     "output_type": "stream",
     "text": [
      "1\n",
      "2\n",
      "3\n",
      "4\n",
      "5\n",
      "10\n",
      "9\n",
      "8\n",
      "7\n",
      "6\n",
      "5\n",
      "4\n",
      "3\n",
      "2\n"
     ]
    }
   ],
   "source": [
    "#4. Check how many times a given number can be divided by 3 before it is less than or equal to 10.\n",
    "x=lambda s:s%3==0 or s==10\n",
    "x(15)\n",
    "#5. Why and When to Use while Loop in Python give a detailed description with example \n",
    "'''The while loop allows us to execute a block of statement which is code repeatedly as the specified \n",
    "condition is True.\n",
    "'''\n",
    "n=1\n",
    "while n<=5:\n",
    "    print(n)\n",
    "    n+=1\n",
    "\n",
    "#7. Reverse a while loop to display numbers from 10 to 1. \n",
    "\n",
    "i=10\n",
    "while i>1:\n",
    "    print(i)\n",
    "    i-=1\n",
    "    "
   ]
  },
  {
   "cell_type": "code",
   "execution_count": 13,
   "id": "62c2b078",
   "metadata": {},
   "outputs": [
    {
     "name": "stdout",
     "output_type": "stream",
     "text": [
      "\n",
      "* \n",
      "* * \n",
      "* * * \n",
      "* * * * \n"
     ]
    }
   ],
   "source": [
    "#6. Use nested while loop to print 3 different pattern.\n",
    "\n",
    "#P1\n",
    "for i in range(5):\n",
    "    for j in range(i):\n",
    "        print('*',end=' ')\n",
    "    print()"
   ]
  },
  {
   "cell_type": "code",
   "execution_count": 14,
   "id": "703e9a67",
   "metadata": {},
   "outputs": [
    {
     "name": "stdout",
     "output_type": "stream",
     "text": [
      "* * * * * \n",
      "* * * * \n",
      "* * * \n",
      "* * \n",
      "* \n"
     ]
    }
   ],
   "source": [
    "#p2\n",
    "for i in range(5,0,-1):\n",
    "    for j in range(i):\n",
    "        print('*', end=' ')\n",
    "    print()"
   ]
  },
  {
   "cell_type": "code",
   "execution_count": 21,
   "id": "0c617ad6",
   "metadata": {},
   "outputs": [
    {
     "name": "stdout",
     "output_type": "stream",
     "text": [
      "*\n",
      "***\n",
      "*****\n",
      "*******\n",
      "*********\n",
      "*********\n",
      "*******\n",
      "*****\n",
      "***\n",
      "*\n"
     ]
    }
   ],
   "source": [
    "#p3\n",
    "\n",
    "for i in range(1,6):\n",
    "    for j in range(5-i):\n",
    "        print('',end='')\n",
    "    for j in range(2*i-1):\n",
    "        print('*',end='')\n",
    "    print()\n",
    "\n",
    "for i in range(5,0,-1):\n",
    "    for j in range(5-i):\n",
    "        print('',end='')\n",
    "    for j in range(2*i-1):\n",
    "        print('*',end='')\n",
    "    print()"
   ]
  },
  {
   "cell_type": "code",
   "execution_count": null,
   "id": "7b823196",
   "metadata": {},
   "outputs": [],
   "source": []
  }
 ],
 "metadata": {
  "kernelspec": {
   "display_name": "Python 3 (ipykernel)",
   "language": "python",
   "name": "python3"
  },
  "language_info": {
   "codemirror_mode": {
    "name": "ipython",
    "version": 3
   },
   "file_extension": ".py",
   "mimetype": "text/x-python",
   "name": "python",
   "nbconvert_exporter": "python",
   "pygments_lexer": "ipython3",
   "version": "3.10.1"
  }
 },
 "nbformat": 4,
 "nbformat_minor": 5
}
