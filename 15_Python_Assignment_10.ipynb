{
 "cells": [
  {
   "cell_type": "markdown",
   "id": "c98dc985-a043-417c-899a-f332c5538526",
   "metadata": {},
   "source": [
    "Q1. What is an Exception in Python? Write the difference between Exceptions and Syntax errors.\n",
    "\n",
    "An exception is an error that occurs during the execution of a Python program. It can be caused by a variety of factors, such as invalid input, file not found, or network error.\n",
    "\n",
    "Difference between exceptions and syntax errors:\n",
    "\n",
    "Syntax errors: Syntax errors are errors in the code itself, such as a missing semicolon or a misspelled keyword. Python cannot run code with syntax errors.\n",
    "\n",
    "Exceptions: Exceptions are errors that occur during the execution of the program, after the code has been parsed. Python can try to recover from exceptions and continue running the program.\n",
    "\n",
    "Q2. What happens when an exception is not handled? Explain with an example.\n",
    "\n",
    "If an exception is not handled, Python will stop the program and print an error message"
   ]
  },
  {
   "cell_type": "code",
   "execution_count": 1,
   "id": "83cadd9c-9fbb-4381-9bf0-c50b3230d851",
   "metadata": {},
   "outputs": [],
   "source": [
    "try:\n",
    "    10 / 0\n",
    "except:\n",
    "    pass\n"
   ]
  },
  {
   "cell_type": "markdown",
   "id": "a7fafb48-9c69-45f7-8e6e-0f4b4f46bf4f",
   "metadata": {},
   "source": [
    "Q3. Which Python statements are used to try, catch, and handle exceptions? Explain with an example.\n",
    "\n",
    "In Python, you can use the try, except, finally, and optionally, else statements to handle exceptions. Here's how they work:\n",
    "\n",
    "try: It defines a block of code where exceptions might occur.\n",
    "\n",
    "except: It defines a block of code that is executed if an exception occurs within the try block.\n",
    "\n",
    "finally: It defines a block of code that is executed regardless of whether an exception occurred or not.\n"
   ]
  },
  {
   "cell_type": "code",
   "execution_count": 2,
   "id": "fe3fa2e1-d479-491f-b906-3af546e3987f",
   "metadata": {},
   "outputs": [
    {
     "name": "stdout",
     "output_type": "stream",
     "text": [
      "Division by zero is not allowed.\n",
      "This code will always be executed.\n"
     ]
    }
   ],
   "source": [
    "try:\n",
    "    10 / 0\n",
    "except:\n",
    "    print(\"Division by zero is not allowed.\")\n",
    "finally:\n",
    "    print(\"This code will always be executed.\")\n"
   ]
  },
  {
   "cell_type": "markdown",
   "id": "e00999d9-8d52-416f-baf0-306e36393772",
   "metadata": {},
   "source": [
    "Q4. Explain with an example: try, and else, finally raise.\n"
   ]
  },
  {
   "cell_type": "code",
   "execution_count": 5,
   "id": "d734a90f-ba82-4d0d-9651-9a1b3a324983",
   "metadata": {},
   "outputs": [
    {
     "name": "stdin",
     "output_type": "stream",
     "text": [
      "Enter a positive number:  24\n"
     ]
    },
    {
     "name": "stdout",
     "output_type": "stream",
     "text": [
      "You entered a positive number: 24\n",
      "This code always executes, whether there was an exception or not.\n"
     ]
    }
   ],
   "source": [
    "try:\n",
    "    num = int(input(\"Enter a positive number: \"))\n",
    "    if num <= 0:\n",
    "        raise ValueError(\"Number must be positive\")\n",
    "except ValueError as e:\n",
    "    print(f\"Error: {e}\")\n",
    "else:\n",
    "    print(f\"You entered a positive number: {num}\")\n",
    "finally:\n",
    "    print(\"This code always executes, whether there was an exception or not.\")\n"
   ]
  },
  {
   "cell_type": "markdown",
   "id": "7f774ff9-d0fa-4b46-af2d-8f7667d4f0dc",
   "metadata": {},
   "source": [
    "Q5. What are Custom Exceptions in Python? Why do we need Custom Exceptions? Explain with an example.\n",
    "\n",
    "Custom exceptions in Python are user-defined exception classes that allow you to create and raise your own exceptions when specific conditions are met in your code."
   ]
  },
  {
   "cell_type": "code",
   "execution_count": 6,
   "id": "53f70fbe-9f7e-481e-8e09-f0e02bd1d14c",
   "metadata": {},
   "outputs": [
    {
     "name": "stdout",
     "output_type": "stream",
     "text": [
      "Custom Exception: Negative values are not allowed: -9\n"
     ]
    }
   ],
   "source": [
    "class NegativeValueError(Exception):\n",
    "    def __init__(self, value):\n",
    "        self.value = value\n",
    "        super().__init__(f\"Negative values are not allowed: {value}\")\n",
    "\n",
    "def calculate_square_root(number):\n",
    "    if number < 0:\n",
    "        raise NegativeValueError(number)\n",
    "    return number ** 0.5\n",
    "\n",
    "try:\n",
    "    result = calculate_square_root(-9)\n",
    "except NegativeValueError as e:\n",
    "    print(f\"Custom Exception: {e}\")\n",
    "else:\n",
    "    print(f\"Square root: {result}\")\n"
   ]
  },
  {
   "cell_type": "code",
   "execution_count": 7,
   "id": "9af4e639-8254-4d9a-b1ca-8562f6e04e1b",
   "metadata": {},
   "outputs": [
    {
     "ename": "SyntaxError",
     "evalue": "invalid syntax (1918155554.py, line 1)",
     "output_type": "error",
     "traceback": [
      "\u001b[0;36m  Cell \u001b[0;32mIn [7], line 1\u001b[0;36m\u001b[0m\n\u001b[0;31m    Q6. Create a custom exception class. Use this class to handle an exception.\u001b[0m\n\u001b[0m               ^\u001b[0m\n\u001b[0;31mSyntaxError\u001b[0m\u001b[0;31m:\u001b[0m invalid syntax\n"
     ]
    }
   ],
   "source": [
    "Q6. Create a custom exception class. Use this class to handle an exception.\n",
    "\n"
   ]
  },
  {
   "cell_type": "code",
   "execution_count": null,
   "id": "e5a6ef36-d374-4bfc-b9ea-f6690d94e394",
   "metadata": {},
   "outputs": [],
   "source": []
  }
 ],
 "metadata": {
  "kernelspec": {
   "display_name": "Python 3 (ipykernel)",
   "language": "python",
   "name": "python3"
  },
  "language_info": {
   "codemirror_mode": {
    "name": "ipython",
    "version": 3
   },
   "file_extension": ".py",
   "mimetype": "text/x-python",
   "name": "python",
   "nbconvert_exporter": "python",
   "pygments_lexer": "ipython3",
   "version": "3.10.6"
  }
 },
 "nbformat": 4,
 "nbformat_minor": 5
}
