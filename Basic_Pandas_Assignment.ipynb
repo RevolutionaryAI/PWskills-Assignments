{
 "cells": [
  {
   "cell_type": "code",
   "execution_count": 3,
   "id": "a558de0b-8496-49e4-925a-64906d2622f4",
   "metadata": {},
   "outputs": [
    {
     "data": {
      "text/plain": [
       "0     4\n",
       "1     8\n",
       "2    15\n",
       "3    16\n",
       "4    23\n",
       "5    42\n",
       "dtype: int64"
      ]
     },
     "execution_count": 3,
     "metadata": {},
     "output_type": "execute_result"
    }
   ],
   "source": [
    "#Q1. Create a Pandas Series that contains the following data: 4, 8, 15, 16, 23, and 42. Then, print the series.\n",
    "import pandas as pd\n",
    "import numpy as npa\n",
    "se=pd.Series([4,8,15,16,23,42])\n",
    "se"
   ]
  },
  {
   "cell_type": "code",
   "execution_count": 6,
   "id": "d0c8b3c3-6d3d-4ade-9e90-36c13db8eed3",
   "metadata": {},
   "outputs": [
    {
     "data": {
      "text/plain": [
       "0     1\n",
       "1     2\n",
       "2     3\n",
       "3     4\n",
       "4     5\n",
       "5     6\n",
       "6     7\n",
       "7     8\n",
       "8     9\n",
       "9    10\n",
       "dtype: int64"
      ]
     },
     "execution_count": 6,
     "metadata": {},
     "output_type": "execute_result"
    }
   ],
   "source": [
    "#Q2. Create a variable of list type containing 10 elements in it, and apply pandas.Series function on the variable, then print it.\n",
    "pd.Series(np.arange(1,11))"
   ]
  },
  {
   "cell_type": "code",
   "execution_count": 12,
   "id": "90c28437-2fa6-469d-9302-b8dfb75b19a2",
   "metadata": {},
   "outputs": [],
   "source": [
    "#Q3. Create a Pandas DataFrame that contains the following data:\n",
    "data = {'Name': ['Alice', 'Bob', 'Carol', 'David'],\n",
    "        'Age': [25, 30, 22, 35],\n",
    "        'City': ['New York', 'Los Angeles', 'Chicago', 'Houston']}\n",
    "data=pd.DataFrame(data)"
   ]
  },
  {
   "cell_type": "markdown",
   "id": "28511a21-9209-4dc2-b1ab-985d01d587ef",
   "metadata": {},
   "source": [
    "Q4. What is ‘DataFrame’ in pandas and how is it different from pandas.Series? Explain with an example.\n",
    "\n",
    "A DataFrame in Pandas is a two-dimensional, size-mutable, and heterogeneous tabular data structure with labeled axes (rows and columns). It is similar to a spreadsheet or SQL table. It can store multiple Series-like objects as columns, making it suitable for storing structured data.\n",
    "\n",
    "A Pandas Series, on the other hand, is a one-dimensional labeled array capable of holding any data type. It can be thought of as a single column in a DataFrame."
   ]
  },
  {
   "cell_type": "code",
   "execution_count": 10,
   "id": "11b385bf-c766-4127-b9a8-130a45b6cbc7",
   "metadata": {},
   "outputs": [
    {
     "name": "stdout",
     "output_type": "stream",
     "text": [
      "0    1\n",
      "1    2\n",
      "2    3\n",
      "3    4\n",
      "4    5\n",
      "Name: Numbers, dtype: int64\n"
     ]
    },
    {
     "data": {
      "text/html": [
       "<div>\n",
       "<style scoped>\n",
       "    .dataframe tbody tr th:only-of-type {\n",
       "        vertical-align: middle;\n",
       "    }\n",
       "\n",
       "    .dataframe tbody tr th {\n",
       "        vertical-align: top;\n",
       "    }\n",
       "\n",
       "    .dataframe thead th {\n",
       "        text-align: right;\n",
       "    }\n",
       "</style>\n",
       "<table border=\"1\" class=\"dataframe\">\n",
       "  <thead>\n",
       "    <tr style=\"text-align: right;\">\n",
       "      <th></th>\n",
       "      <th>UD</th>\n",
       "      <th>Numbers</th>\n",
       "    </tr>\n",
       "  </thead>\n",
       "  <tbody>\n",
       "    <tr>\n",
       "      <th>0</th>\n",
       "      <td>101</td>\n",
       "      <td>1</td>\n",
       "    </tr>\n",
       "    <tr>\n",
       "      <th>1</th>\n",
       "      <td>102</td>\n",
       "      <td>2</td>\n",
       "    </tr>\n",
       "    <tr>\n",
       "      <th>2</th>\n",
       "      <td>103</td>\n",
       "      <td>3</td>\n",
       "    </tr>\n",
       "    <tr>\n",
       "      <th>3</th>\n",
       "      <td>104</td>\n",
       "      <td>4</td>\n",
       "    </tr>\n",
       "    <tr>\n",
       "      <th>4</th>\n",
       "      <td>105</td>\n",
       "      <td>5</td>\n",
       "    </tr>\n",
       "  </tbody>\n",
       "</table>\n",
       "</div>"
      ],
      "text/plain": [
       "    UD  Numbers\n",
       "0  101        1\n",
       "1  102        2\n",
       "2  103        3\n",
       "3  104        4\n",
       "4  105        5"
      ]
     },
     "execution_count": 10,
     "metadata": {},
     "output_type": "execute_result"
    }
   ],
   "source": [
    "#Series\n",
    "se=pd.Series(np.arange(1,6),name='Numbers')\n",
    "print(se)\n",
    "#Dataframe\n",
    "df=pd.DataFrame({'UD':np.arange(101,106),'Numbers':se})\n",
    "df"
   ]
  },
  {
   "cell_type": "markdown",
   "id": "d9221fb1-c828-43c6-8572-0f3cc05bf561",
   "metadata": {},
   "source": [
    "Q5. What are some common functions you can use to manipulate data in a Pandas DataFrame? Can you give an example of when you might use one of these functions?\n",
    "\n",
    "head() and tail(): To view the first or last few rows of a DataFrame.\n",
    "\n",
    "describe(): To get summary statistics of numerical columns.\n",
    "\n",
    "info(): To get information about the DataFrame's structure.\n",
    "\n",
    "set_index(): To set a specific column as the index.\n",
    "\n",
    "groupby(): To group data based on one or more columns.\n",
    "\n",
    "sort_values(): To sort rows based on column values."
   ]
  },
  {
   "cell_type": "code",
   "execution_count": 13,
   "id": "8b5a5a43-f4f3-4ff8-a2e1-ab0e4243459f",
   "metadata": {},
   "outputs": [
    {
     "name": "stdout",
     "output_type": "stream",
     "text": [
      "    Name  Age         City\n",
      "0  Alice   25     New York\n",
      "1    Bob   30  Los Angeles\n",
      "2  Carol   22      Chicago\n",
      "3  David   35      Houston\n",
      "    Name  Age         City\n",
      "0  Alice   25     New York\n",
      "1    Bob   30  Los Angeles\n",
      "2  Carol   22      Chicago\n",
      "3  David   35      Houston\n",
      "<class 'pandas.core.frame.DataFrame'>\n",
      "RangeIndex: 4 entries, 0 to 3\n",
      "Data columns (total 3 columns):\n",
      " #   Column  Non-Null Count  Dtype \n",
      "---  ------  --------------  ----- \n",
      " 0   Name    4 non-null      object\n",
      " 1   Age     4 non-null      int64 \n",
      " 2   City    4 non-null      object\n",
      "dtypes: int64(1), object(2)\n",
      "memory usage: 224.0+ bytes\n",
      "None\n",
      "             Age\n",
      "count   4.000000\n",
      "mean   28.000000\n",
      "std     5.715476\n",
      "min    22.000000\n",
      "25%    24.250000\n",
      "50%    27.500000\n",
      "75%    31.250000\n",
      "max    35.000000\n"
     ]
    },
    {
     "ename": "TypeError",
     "evalue": "DataFrame.set_index() missing 1 required positional argument: 'keys'",
     "output_type": "error",
     "traceback": [
      "\u001b[0;31m---------------------------------------------------------------------------\u001b[0m",
      "\u001b[0;31mTypeError\u001b[0m                                 Traceback (most recent call last)",
      "Cell \u001b[0;32mIn[13], line 5\u001b[0m\n\u001b[1;32m      3\u001b[0m \u001b[38;5;28mprint\u001b[39m(data\u001b[38;5;241m.\u001b[39minfo())\n\u001b[1;32m      4\u001b[0m \u001b[38;5;28mprint\u001b[39m(data\u001b[38;5;241m.\u001b[39mdescribe())\n\u001b[0;32m----> 5\u001b[0m \u001b[38;5;28mprint\u001b[39m(\u001b[43mdata\u001b[49m\u001b[38;5;241;43m.\u001b[39;49m\u001b[43mset_index\u001b[49m\u001b[43m(\u001b[49m\u001b[43m)\u001b[49m)\n\u001b[1;32m      6\u001b[0m \u001b[38;5;28mprint\u001b[39m(data\u001b[38;5;241m.\u001b[39mgroupby(\u001b[38;5;124m'\u001b[39m\u001b[38;5;124mCity\u001b[39m\u001b[38;5;124m'\u001b[39m)[\u001b[38;5;124m'\u001b[39m\u001b[38;5;124mAge\u001b[39m\u001b[38;5;124m'\u001b[39m]\u001b[38;5;241m.\u001b[39mmean())\n\u001b[1;32m      7\u001b[0m \u001b[38;5;28mprint\u001b[39m(data\u001b[38;5;241m.\u001b[39msort_values(by\u001b[38;5;241m=\u001b[39m\u001b[38;5;124m'\u001b[39m\u001b[38;5;124mAge\u001b[39m\u001b[38;5;124m'\u001b[39m,ascending\u001b[38;5;241m=\u001b[39m\u001b[38;5;28;01mFalse\u001b[39;00m))\n",
      "File \u001b[0;32m/opt/conda/lib/python3.10/site-packages/pandas/util/_decorators.py:331\u001b[0m, in \u001b[0;36mdeprecate_nonkeyword_arguments.<locals>.decorate.<locals>.wrapper\u001b[0;34m(*args, **kwargs)\u001b[0m\n\u001b[1;32m    325\u001b[0m \u001b[38;5;28;01mif\u001b[39;00m \u001b[38;5;28mlen\u001b[39m(args) \u001b[38;5;241m>\u001b[39m num_allow_args:\n\u001b[1;32m    326\u001b[0m     warnings\u001b[38;5;241m.\u001b[39mwarn(\n\u001b[1;32m    327\u001b[0m         msg\u001b[38;5;241m.\u001b[39mformat(arguments\u001b[38;5;241m=\u001b[39m_format_argument_list(allow_args)),\n\u001b[1;32m    328\u001b[0m         \u001b[38;5;167;01mFutureWarning\u001b[39;00m,\n\u001b[1;32m    329\u001b[0m         stacklevel\u001b[38;5;241m=\u001b[39mfind_stack_level(),\n\u001b[1;32m    330\u001b[0m     )\n\u001b[0;32m--> 331\u001b[0m \u001b[38;5;28;01mreturn\u001b[39;00m \u001b[43mfunc\u001b[49m\u001b[43m(\u001b[49m\u001b[38;5;241;43m*\u001b[39;49m\u001b[43margs\u001b[49m\u001b[43m,\u001b[49m\u001b[43m \u001b[49m\u001b[38;5;241;43m*\u001b[39;49m\u001b[38;5;241;43m*\u001b[39;49m\u001b[43mkwargs\u001b[49m\u001b[43m)\u001b[49m\n",
      "\u001b[0;31mTypeError\u001b[0m: DataFrame.set_index() missing 1 required positional argument: 'keys'"
     ]
    }
   ],
   "source": [
    "print(data.head())\n",
    "print(data.tail())\n",
    "print(data.info())\n",
    "print(data.describe())\n",
    "print(data.set_index())\n",
    "print(data.groupby('City')['Age'].mean())\n",
    "print(data.sort_values(by='Age',ascending=False))"
   ]
  },
  {
   "cell_type": "markdown",
   "id": "b209aab6-523e-43a6-a9ae-4d6d4bd13f13",
   "metadata": {},
   "source": [
    "Q6. Which of the following is mutable in nature: Series, DataFrame, Panel?\n",
    "\n",
    "In Pandas, both Series and DataFrame are mutable in nature, which means you can modify their contents after creation. Panel, which was present in earlier versions of Pandas, has been removed in newer versions."
   ]
  },
  {
   "cell_type": "markdown",
   "id": "7d7a5437-97e9-463d-924f-a747bfee4dfa",
   "metadata": {},
   "source": [
    "Q7. Create a DataFrame using multiple Series. Explain with an example."
   ]
  },
  {
   "cell_type": "code",
   "execution_count": 14,
   "id": "bf2287dd-e064-4994-8501-00950bebd686",
   "metadata": {},
   "outputs": [
    {
     "name": "stdout",
     "output_type": "stream",
     "text": [
      "    Name  Age         City\n",
      "0  Alice   25     New York\n",
      "1    Bob   30  Los Angeles\n",
      "2  Carol   22      Chicago\n",
      "3  David   35      Houston\n"
     ]
    }
   ],
   "source": [
    "import pandas as pd\n",
    "\n",
    "names = pd.Series(['Alice', 'Bob', 'Carol', 'David'])\n",
    "ages = pd.Series([25, 30, 22, 35])\n",
    "cities = pd.Series(['New York', 'Los Angeles', 'Chicago', 'Houston'])\n",
    "df = pd.DataFrame({'Name': names, 'Age': ages, 'City': cities})\n",
    "\n",
    "print(df)\n"
   ]
  }
 ],
 "metadata": {
  "kernelspec": {
   "display_name": "Python 3 (ipykernel)",
   "language": "python",
   "name": "python3"
  },
  "language_info": {
   "codemirror_mode": {
    "name": "ipython",
    "version": 3
   },
   "file_extension": ".py",
   "mimetype": "text/x-python",
   "name": "python",
   "nbconvert_exporter": "python",
   "pygments_lexer": "ipython3",
   "version": "3.10.8"
  }
 },
 "nbformat": 4,
 "nbformat_minor": 5
}
