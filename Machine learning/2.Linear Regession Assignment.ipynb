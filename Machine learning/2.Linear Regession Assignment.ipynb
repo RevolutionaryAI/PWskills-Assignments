{
 "cells": [
  {
   "cell_type": "markdown",
   "id": "74587c8d-a4af-49cc-a9d1-79a6942a8628",
   "metadata": {},
   "source": [
    "Q1. Explain the concept of R-squared in linear regression models. How is it calculated, and what does it\n",
    "represent?\n",
    "\n",
    "->R^2 square is performnace metrices form linear regression.It states the 5 of variance in dependent feature that the independent feature\n",
    "explains collectively.It measure the relationship betwee a model and dependent feature on a 0-100% scale.\n",
    "Formula-R^2=1−SStot/SSres\n",
    "where SSres is the sum of squared residuals and SStot is the total sum of squares\n",
    "Q2. Define adjusted R-squared and explain how it differs from the regular R-squared.\n",
    "\n",
    "->Adjusted R-squared is a modified version of R-squared that has been adjusted for the number of predictors in the model.\n",
    "formula-adj r^2=1-(1-R^2)(n-1)/(n-p-1)\n",
    "where n=sample size,p=nos of predictor of the model\n",
    "\n",
    "Q3. When is it more appropriate to use adjusted R-squared?\n",
    "\n",
    "->It alyways greater than r square  when comparing different number of predictors.rsquare will increase as more features will be added in the model,even if they do not improve the model.It will penalizzes models more predictors by adjusting for number of predictors in the model.\n",
    "\n",
    "Q4. What are RMSE, MSE, and MAE in the context of regression analysis? How are these metrics calculated, and what do they represent?\n",
    "\n",
    "->MSE\n",
    "(Root Mean Squared Error), MSE (Mean Squared Error), and MAE (Mean Absolute Error) are metrics used to evaluate regression models. \n",
    "formula-\n",
    "mse=sum(y_i-y^_i)^2/n,rmse=sqrt(mse),mae=sum(|y_i-y^_i|/n\n",
    "RMSE, MSE, and MAE all measure how well a regression model fits the data. RMSE and MSE both penalize large errors more than small errors, while MAE treats all errors equally. RMSE and MSE are more sensitive to outliers than MAE\n",
    "Q5. Discuss the advantages and disadvantages of using RMSE, MSE, and MAE as evaluation metrics in regression analysis.\n",
    "\n",
    "->Adv-It is a quantitative measure how model well fits the data.\n",
    "Disadv-It do not provide any information about how well a regression model  predicts new data that was not use to fit the model.\n",
    "\n",
    "Q6. Explain the concept of Lasso regularization. How does it differ from Ridge regularization, and when is it more appropriate to use?\n",
    "\n",
    "->Lasso regularization is a method used to prevent overfitting in linear regression models by adding a penalty term to the cost function that shrinks some of the coefficients towards zero. Lasso regularization differs from Ridge regularization in that it uses an L1 penalty term instead of an L2 penalty term. Lasso regularization is more appropriate than Ridge regularization when there are many predictors in the model and only a few are expected to be important.\n",
    "\n",
    "\n",
    "Q7. How do regularized linear models help to prevent overfitting in machine learning? Provide an example to illustrate.\n",
    "\n",
    "->Regularized linear models help prevent overfitting in machine learning by adding a penalty term to the cost function that shrinks some of the coefficients towards zero. This reduces overfitting by reducing the complexity of the model. An example would be using Lasso regularization on a linear regression model with many predictors.\n",
    "\n",
    "Q8. Discuss the limitations of regularized linear models and explain why they may not always be the best choice for regression analysis.\n",
    "\n",
    "->The limitations of regularized linear models are that they can be computationally expensive to fit and may require tuning hyperparameters such as regularization strength. They may also not be appropriate when there are many predictors in the model and all are expected to be important.\n",
    "\n",
    "Q9. You are comparing the performance of two regression models using different evaluation metrics.Model A has an RMSE of 10, while Model B has an MAE of 8. Which model would you choose as the better\n",
    "performer, and why? Are there any limitations to your choice of metric?\n",
    "\n",
    "->If you are comparing two regression models using different evaluation metrics, you should choose the one with lower error. In this case, Model B would be considered better because it has a lower MAE than Model A. However, there may be limitations to your choice of metric depending on your specific use case\n",
    "\n",
    "Q10. You are comparing the performance of two regularized linear models using different types of regularization. Model A uses Ridge regularization with a regularization parameter of 0.1, while Model B uses Lasso regularization with a regularization parameter of 0.5. Which model would you choose as the better performer, and why? Are there any trade-offs or limitations to your choice of regularization\n",
    "method?\n",
    "\n",
    "->In general, you should choose the regularization method that performs better on your chosen evaluation metric. Ridge regularization is more appropriate when there are many predictors in the model and all are expected to be important. Lasso regularization is more appropriate when there are many predictors in the model and only a few are expected to be important. The trade-off with Lasso regularization is that it can result in some coefficients being exactly zero, which can make interpretation of the model more difficult.In this case, Model B uses Lasso regularization with a higher regularization parameter than Model A. If Model B has better performance on your chosen evaluation metric than Model A, then it would be considered the better performer. However, if Model A has better performance on your chosen evaluation metric than Model B, then it would be considered the better performer."
   ]
  },
  {
   "cell_type": "code",
   "execution_count": null,
   "id": "cce8ff01-c835-492f-ba61-013ba5fc0781",
   "metadata": {},
   "outputs": [],
   "source": []
  }
 ],
 "metadata": {
  "kernelspec": {
   "display_name": "Python 3 (ipykernel)",
   "language": "python",
   "name": "python3"
  },
  "language_info": {
   "codemirror_mode": {
    "name": "ipython",
    "version": 3
   },
   "file_extension": ".py",
   "mimetype": "text/x-python",
   "name": "python",
   "nbconvert_exporter": "python",
   "pygments_lexer": "ipython3",
   "version": "3.10.8"
  }
 },
 "nbformat": 4,
 "nbformat_minor": 5
}
