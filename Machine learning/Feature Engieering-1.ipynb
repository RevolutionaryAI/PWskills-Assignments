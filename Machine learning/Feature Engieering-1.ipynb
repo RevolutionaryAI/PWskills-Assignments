{
 "cells": [
  {
   "cell_type": "markdown",
   "id": "2c947ad5-f109-4d3f-8909-d89d28de29b3",
   "metadata": {},
   "source": [
    "Q1: What are missing values in a dataset? Why is it essential to handle missing values? Name some\n",
    "algorithms that are not affected by missing values.\n",
    "\n",
    "Q2: List down techniques used to handle missing data. Give an example of each with python code.\n",
    "\n",
    "Q3: Explain the imbalanced data. What will happen if imbalanced data is not handled?\n",
    "\n",
    "Q4: What are Up-sampling and Down-sampling? Explain with an example when up-sampling and down-\n",
    "sampling are required.\n",
    "\n",
    "Q5: What is data Augmentation? Explain SMOTE.\n",
    "\n",
    "Q6: What are outliers in a dataset? Why is it essential to handle outliers?\n",
    "\n",
    "Q7: You are working on a project that requires analyzing customer data. However, you notice that some of\n",
    "the data is missing. What are some techniques you can use to handle the missing data in your analysis?\n",
    "\n",
    "Q8: You are working with a large dataset and find that a small percentage of the data is missing. What are\n",
    "some strategies you can use to determine if the missing data is missing at random or if there is a pattern to the missing data?\n",
    "\n",
    "Q9: Suppose you are working on a medical diagnosis project and find that the majority of patients in the\n",
    "dataset do not have the condition of interest, while a small percentage do. What are some strategies you\n",
    "can use to evaluate the performance of your machine learning model on this imbalanced dataset?\n",
    "\n",
    "Q10: When attempting to estimate customer satisfaction for a project, you discover that the dataset is\n",
    "unbalanced, with the bulk of customers reporting being satisfied. What methods can you employ to\n",
    "balance the dataset and down-sample the majority class?\n",
    "\n",
    "Q11: You discover that the dataset is unbalanced with a low percentage of occurrences while working on a\n",
    "project that requires you to estimate the occurrence of a rare event. What methods can you employ to\n",
    "balance the dataset and up-sample the minority class?"
   ]
  },
  {
   "cell_type": "markdown",
   "id": "84ee5874-182f-4346-8e36-62327ed8d94e",
   "metadata": {},
   "source": [
    "**Answer**"
   ]
  },
  {
   "cell_type": "markdown",
   "id": "480dbaac-74ab-48c6-8743-d0af9c379adb",
   "metadata": {},
   "source": [
    "Q1: Missing values in a dataset are values that are not present for certain observations or variables. Handling missing values is essential because they can lead to biased or incorrect analyses and models. Some algorithms that are not affected by missing values include decision trees, random forests, and k-nearest neighbors, as they can work with missing data without requiring imputation.\n",
    "\n",
    "Q2: Techniques to handle missing data include:\n",
    "   a. **Deletion**: Removing rows or columns with missing values.\n",
    "   ```python\n",
    "   import pandas as pd\n",
    "   df = pd.DataFrame({'A': [1, 2, None, 4], 'B': [None, 2, 3, 4]})\n",
    "   df.dropna()  # Drop rows with missing values\n",
    "   df.dropna(axis=1)  # Drop columns with missing values\n",
    "   ```\n",
    "\n",
    "   b. **Imputation**: Filling in missing values with estimated values.\n",
    "   ```python\n",
    "   df.fillna(0)  # Fill missing values with 0\n",
    "   df.fillna(df.mean())  # Fill with mean\n",
    "   ```\n",
    "\n",
    "   c. **Interpolation**: Estimating missing values based on adjacent values.\n",
    "   ```python\n",
    "   df.interpolate()  # Linear interpolation\n",
    "   ```\n",
    "\n",
    "   d. **Using Machine Learning**: Predicting missing values using models like regression or KNN.\n",
    "   ```python\n",
    "   from sklearn.impute import KNNImputer\n",
    "   imputer = KNNImputer(n_neighbors=2)\n",
    "   df_filled = imputer.fit_transform(df)\n",
    "   ```\n",
    "\n",
    "Q3: Imbalanced data refers to a situation where the classes or categories in a dataset are not represented equally. If imbalanced data is not handled, machine learning models can be biased towards the majority class and perform poorly on the minority class. This can lead to inaccurate predictions for the minority class, which may be crucial in many applications.\n",
    "\n",
    "Q4: \n",
    "- **Up-sampling**: It involves increasing the number of instances in the minority class to balance the class distribution. This is typically done by duplicating or creating synthetic examples of minority class samples.\n",
    "- **Down-sampling**: It involves reducing the number of instances in the majority class to balance the class distribution. This can be achieved by randomly removing instances from the majority class.\n",
    "\n",
    "Example: In a fraud detection dataset with few fraud cases (minority) and many non-fraud cases (majority), you might up-sample the fraud cases and down-sample the non-fraud cases to balance the dataset.\n",
    "\n",
    "Q5: Data augmentation is a technique used in machine learning to increase the diversity of the training dataset by applying various transformations to the data. SMOTE (Synthetic Minority Over-sampling Technique) is a specific technique used for up-sampling in imbalanced datasets. SMOTE generates synthetic examples of the minority class by interpolating between existing minority class instances.\n",
    "\n",
    "Q6: Outliers are data points that significantly deviate from the majority of the data in a dataset. It's essential to handle outliers because they can skew statistical analyses and machine learning models. Outliers can arise due to errors, anomalies, or genuine extreme values. Techniques for handling outliers include removing them, transforming the data, or using robust algorithms.\n",
    "\n",
    "Q7: Techniques to handle missing data in customer data analysis include imputation (filling missing values with reasonable estimates), deletion (removing rows or columns with too many missing values), or using machine learning models to predict missing values based on available data.\n",
    "\n",
    "Q8: To determine if missing data is missing at random or if there is a pattern, you can perform statistical tests or visualizations. For example, you can create a heatmap to visualize the correlation between missing values in different columns or use statistical tests like Little's MCAR test to check if the data is missing completely at random.\n",
    "\n",
    "Q9: Strategies to evaluate the performance of a machine learning model on an imbalanced dataset include using metrics like precision, recall, F1-score, and area under the Receiver Operating Characteristic (ROC-AUC) curve. You can also use techniques like resampling (up-sampling or down-sampling) or using different algorithms designed for imbalanced data, such as SMOTE.\n",
    "\n",
    "Q10: To balance an unbalanced dataset with a majority of satisfied customers, you can down-sample the majority class by randomly selecting a subset of satisfied customer data. This can help create a more balanced dataset for modeling.\n",
    "\n",
    "Q11: To balance an unbalanced dataset with a low percentage of rare events (minority class), you can up-sample the minority class by generating synthetic samples using techniques like SMOTE. This helps increase the representation of the minority class and improve model performance on rare event prediction."
   ]
  },
  {
   "cell_type": "code",
   "execution_count": null,
   "id": "425c60b4-3f30-4508-9bcd-81f75bb45033",
   "metadata": {},
   "outputs": [],
   "source": []
  }
 ],
 "metadata": {
  "kernelspec": {
   "display_name": "Python 3 (ipykernel)",
   "language": "python",
   "name": "python3"
  },
  "language_info": {
   "codemirror_mode": {
    "name": "ipython",
    "version": 3
   },
   "file_extension": ".py",
   "mimetype": "text/x-python",
   "name": "python",
   "nbconvert_exporter": "python",
   "pygments_lexer": "ipython3",
   "version": "3.10.8"
  }
 },
 "nbformat": 4,
 "nbformat_minor": 5
}
