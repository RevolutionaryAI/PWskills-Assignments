{
 "cells": [
  {
   "cell_type": "markdown",
   "id": "7a77376a-f65d-4aca-88c4-92546efeba4d",
   "metadata": {},
   "source": [
    "Q1. Explain the difference between simple linear regression and multiple linear regression. Provide an example of each.\n",
    " \n",
    "Ans=simple linear regression is a statistical model which has a relationship between one independent feature and one dependent feature whereas multiple linear regression is a statistical mode which trys to predict multiple independent features and one independent feature.Eg-\n",
    "In simple regression,weight is independent feature and height is dependent feature.In multiplee regression,size ofr row,length is independent feature and price is dependent feature.\n",
    "\n",
    "Q2. Discuss the assumptions of linear regression. How can you check whether these assumptions hold in a given dataset?\n",
    "\n",
    "i)The relationship between 2 variables must be linear.It means that the change in one variable would be change in independent vairable.\n",
    "ii)The observations should be independent of each other.There should be no correlation between the residuals.\n",
    "iii)The variance residuals should be constant across all the independent variables.The spread of residuals should be same for all values of independent variable.\n",
    "iv)Normality-It should be normally distributed.This means that the distribution of the residuals should be residuals should be symmetric around 0.\n",
    "v)There should be  no perfect multicollinearity among the independent variables.This means that there should be no linear relationships between any 2 independent variables.\n",
    "\n",
    "Q3. How do you interpret the slope and intercept in a linear regression model? Provide an example using a real-world scenario.\n",
    "\n",
    "Ans-\n",
    "model:-y=b0+b1*x\n",
    "b0=yintercept\n",
    "b1=slope of the line\n",
    "Eg-A car rental data shows a renting a car is $50 per day plus a fixed fee of $100.So, yintercept is $100 and slope is $50.\n",
    "\n",
    "Q4. Explain the concept of gradient descent. How is it used in machine learning?\n",
    "\n",
    "Ans- Before going into gradient descent,lets talk about cost function\n",
    "so,It says that how model fit wells to data and it tries to minimize the cost function.The most common metrices is mse= (1/n) * Σ (yi – ŷ)^2.It is an optimization algorithm used to minimize the cost function.The algorithm starts with some initial values of B0 and B1 and then repeatedly updates them until convergence. The update rule for gradient descent is:\n",
    "\n",
    "Bj = Bj – α * ∂J/∂Bj\n",
    "\n",
    "Q5. Describe the multiple linear regression model. How does it differ from simple linear regression?\n",
    "simple linear regression is a statistical model which has a relationship between one independent feature and one dependent feature whereas multiple linear regression is a statistical mode which trys to predict multiple independent features and one independent feature.Eg-\n",
    "In simple regression,weight is independent feature and height is dependent feature.In multiplee regression,size ofr row,length is independent feature and price is dependent feature.\n",
    "\n",
    "Q6. Explain the concept of multicollinearity in multiple linear regression. How can you detect and address this issue?\n",
    "Ans-It  is when 2 or more independent variables are highly corelated with each other. This can cause problems in the model because it becomes difficult to determine the effect of each independent variable on the dependent variable. To detect multicollinearity, you can calculate the correlation matrix between the independent variables. If the correlation coefficient between two variables is greater than 0.8 or less than -0.8, then there may be multicollinearity. To address this issue, you can either remove one of the correlated variables or use principal component analysis (PCA) to reduce the dimensionality of the data.\n",
    "Q7. Describe the polynomial regression model. How is it different from linear regression?\n",
    "->It is a type of regression analysis which has linear relationship between 2 features as nth degree.So simple regression has linear relation between x and y where polynomial relation has non linear relation between x and y.\n",
    "Q8. What are the advantages and disadvantages of polynomial regression compared to linear regression? In what situations would you prefer to use polynomial regression?\n",
    "\n",
    "->The advantage of polynomial regression over linear regression is that it can model more complex relationships between x and y. However, polynomial regression can also be more prone to overfitting, which occurs when the model fits the noise in the data instead of the underlying pattern. In general, you would prefer to use polynomial regression when you have reason to believe that the relationship between x and y is nonlinear and when you have enough data to avoid overfitting."
   ]
  }
 ],
 "metadata": {
  "kernelspec": {
   "display_name": "Python 3 (ipykernel)",
   "language": "python",
   "name": "python3"
  },
  "language_info": {
   "codemirror_mode": {
    "name": "ipython",
    "version": 3
   },
   "file_extension": ".py",
   "mimetype": "text/x-python",
   "name": "python",
   "nbconvert_exporter": "python",
   "pygments_lexer": "ipython3",
   "version": "3.10.8"
  }
 },
 "nbformat": 4,
 "nbformat_minor": 5
}
