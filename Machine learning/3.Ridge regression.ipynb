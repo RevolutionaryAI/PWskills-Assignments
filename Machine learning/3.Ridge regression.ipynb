{
 "cells": [
  {
   "cell_type": "markdown",
   "id": "43a3526f-8253-4b5d-bf58-d94d32c69021",
   "metadata": {},
   "source": [
    "\n",
    "**Q1. What is Ridge Regression, and how does it differ from ordinary least squares regression?**\n",
    "\n",
    "Ridge regression is a type of linear regression that adds a penalty to the loss function to prevent overfitting. This penalty is proportional to the sum of the squares of the coefficients, which means that it shrinks the coefficients towards zero. Ordinary least squares regression does not add this penalty, which can lead to overfitting if the data is not well-represented by the model.\n",
    "\n",
    "**Q2. What are the assumptions of Ridge Regression?**\n",
    "\n",
    "The assumptions of ridge regression are the same as those of ordinary least squares regression:\n",
    "\n",
    "a)The independent variables are linearly related to the dependent variable.\n",
    "b) The independent variables are not perfectly correlated with each other.\n",
    "c)The errors are normally distributed with constant variance.\n",
    "\n",
    "**Q3. How do you select the value of the tuning parameter (lambda) in Ridge Regression?**\n",
    "\n",
    "The value of the tuning parameter (lambda) in ridge regression can be selected using cross-validation. Cross-validation involves splitting the data into a training set and a test set. The model is trained on the training set and then evaluated on the test set. The value of lambda that produces the best performance on the test set is chosen.\n",
    "\n",
    "**Q4. Can Ridge Regression be used for feature selection? If yes, how?**\n",
    "\n",
    "Ridge regression can be used for feature selection by setting a high value of lambda. This will shrink all of the coefficients towards zero, and some of the coefficients may shrink to zero. The features with coefficients that have shrunk to zero can be removed from the model.\n",
    "\n",
    "**Q5. How does the Ridge Regression model perform in the presence of multicollinearity?**\n",
    "\n",
    "Ridge regression is less sensitive to multicollinearity than ordinary least squares regression. This is because the penalty term in ridge regression shrinks the coefficients towards zero, which helps to reduce the impact of multicollinearity.\n",
    "\n",
    "**Q6. Can Ridge Regression handle both categorical and continuous independent variables?**\n",
    "\n",
    "Yes, ridge regression can handle both categorical and continuous independent variables. Categorical variables are converted into dummy variables before they are used in the model.\n",
    "\n",
    "**Q7. How do you interpret the coefficients of Ridge Regression?**\n",
    "\n",
    "The coefficients of ridge regression are interpreted in the same way as the coefficients of ordinary least squares regression. The coefficient for a particular independent variable represents the change in the dependent variable for a one-unit change in the independent variable, holding all other variables constant.\n",
    "\n",
    "**Q8. Can Ridge Regression be used for time-series data analysis? If yes, how?**\n",
    "\n",
    "Yes, ridge regression can be used for time-series data analysis. However, it is important to note that ridge regression is a linear model, and time-series data is often non-linear. This means that ridge regression may not be the best model for all time-series data.\n",
    "\n"
   ]
  },
  {
   "cell_type": "code",
   "execution_count": null,
   "id": "87af9d55-33d7-4df0-8403-1d18b4b8081d",
   "metadata": {},
   "outputs": [],
   "source": []
  }
 ],
 "metadata": {
  "kernelspec": {
   "display_name": "Python 3 (ipykernel)",
   "language": "python",
   "name": "python3"
  },
  "language_info": {
   "codemirror_mode": {
    "name": "ipython",
    "version": 3
   },
   "file_extension": ".py",
   "mimetype": "text/x-python",
   "name": "python",
   "nbconvert_exporter": "python",
   "pygments_lexer": "ipython3",
   "version": "3.10.8"
  }
 },
 "nbformat": 4,
 "nbformat_minor": 5
}
